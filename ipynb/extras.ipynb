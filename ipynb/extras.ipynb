{
 "cells": [
  {
   "cell_type": "code",
   "execution_count": null,
   "id": "e657c07b",
   "metadata": {},
   "outputs": [],
   "source": [
    "#get unique values frm dataframe\n",
    "dff['TEAM'].unique()"
   ]
  },
  {
   "cell_type": "code",
   "execution_count": null,
   "id": "79920d1f",
   "metadata": {},
   "outputs": [],
   "source": [
    "#join dataframes\n",
    "abc = dff.join(dff2)"
   ]
  },
  {
   "cell_type": "code",
   "execution_count": null,
   "id": "dcbb1046",
   "metadata": {},
   "outputs": [],
   "source": [
    "#drop column in dataframe\n",
    "final  = abc.drop(['TEAM'],axis='columns') "
   ]
  }
 ],
 "metadata": {
  "kernelspec": {
   "display_name": "Python 3 (ipykernel)",
   "language": "python",
   "name": "python3"
  },
  "language_info": {
   "codemirror_mode": {
    "name": "ipython",
    "version": 3
   },
   "file_extension": ".py",
   "mimetype": "text/x-python",
   "name": "python",
   "nbconvert_exporter": "python",
   "pygments_lexer": "ipython3",
   "version": "3.11.7"
  }
 },
 "nbformat": 4,
 "nbformat_minor": 5
}
